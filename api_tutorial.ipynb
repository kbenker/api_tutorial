{
 "cells": [
  {
   "cell_type": "markdown",
   "metadata": {},
   "source": [
    "# Client Summit: Using the Census API"
   ]
  },
  {
   "cell_type": "markdown",
   "metadata": {},
   "source": [
    "## Interacting via Requests library vs. API client\n",
    "Example: listing Platform tables in a given schema"
   ]
  },
  {
   "cell_type": "markdown",
   "metadata": {},
   "source": [
    "#### HTTP request via Requests library"
   ]
  },
  {
   "cell_type": "code",
   "execution_count": null,
   "metadata": {},
   "outputs": [],
   "source": [
    "import requests\n",
    "import os\n",
    "\n",
    "endpoint = 'https://api.civisanalytics.com/tables/'\n",
    "api_key = os.environ.get('CIVIS_API_KEY')\n",
    "parameters = {'schema': 'ts'}\n",
    "\n",
    "response = requests.get(endpoint, \n",
    "                        auth=(api_key, ''),\n",
    "                        params=parameters)\n",
    "\n",
    "if response.status_code == 200:\n",
    "    print(response.json())"
   ]
  },
  {
   "cell_type": "markdown",
   "metadata": {},
   "source": [
    "#### via Civis Client"
   ]
  },
  {
   "cell_type": "code",
   "execution_count": null,
   "metadata": {
    "scrolled": true
   },
   "outputs": [],
   "source": [
    "import civis\n",
    "\n",
    "client = civis.APIClient()\n",
    "\n",
    "response = client.tables.list(schema='ts')\n",
    "print(response)"
   ]
  },
  {
   "cell_type": "markdown",
   "metadata": {},
   "source": [
    "## Using the Census API via the requests library"
   ]
  },
  {
   "cell_type": "markdown",
   "metadata": {},
   "source": [
    "#### Documentation\n",
    "- [requests](http://docs.python-requests.org/en/master/): For making API calls\n",
    "- [civis](https://civis-python.readthedocs.io/en/latest/client.html): For interacting with the Civis API\n",
    "- [us](https://pypi.python.org/pypi/us): For easily getting Census FIPS codes"
   ]
  },
  {
   "cell_type": "code",
   "execution_count": null,
   "metadata": {},
   "outputs": [],
   "source": [
    "import requests\n",
    "import civis\n",
    "import us\n",
    "import pandas as pd\n",
    "\n",
    "# initialize Civis client\n",
    "client = civis.APIClient()"
   ]
  },
  {
   "cell_type": "code",
   "execution_count": null,
   "metadata": {},
   "outputs": [],
   "source": [
    "BASE_URL = 'https://api.census.gov/data/2016/acs/acs5'\n",
    "# replace with your credential ID\n",
    "CENSUS_API_KEY = client.credentials.get(9166).username"
   ]
  },
  {
   "cell_type": "markdown",
   "metadata": {},
   "source": [
    "First, get data for every tract in DC.\n",
    "\n",
    "Census Fields:\n",
    "    - B08006_008E: number that commute via public transportation\n",
    "    - B08006_001E: total number of employed people"
   ]
  },
  {
   "cell_type": "code",
   "execution_count": null,
   "metadata": {},
   "outputs": [],
   "source": [
    "parameters = {'get': 'NAME,B08006_008E,B08006_001E', \n",
    "              'for': 'tract:*', \n",
    "              'in': 'state:' + us.states.DC.fips, \n",
    "              'key': CENSUS_API_KEY}\n",
    "\n",
    "response = requests.get(BASE_URL, params=parameters)"
   ]
  },
  {
   "cell_type": "code",
   "execution_count": null,
   "metadata": {},
   "outputs": [],
   "source": [
    "# view url the request is hitting\n",
    "print(response.url)"
   ]
  },
  {
   "cell_type": "code",
   "execution_count": null,
   "metadata": {},
   "outputs": [],
   "source": [
    "# view response status\n",
    "print(response.status_code)"
   ]
  },
  {
   "cell_type": "code",
   "execution_count": null,
   "metadata": {
    "scrolled": true
   },
   "outputs": [],
   "source": [
    "# get response as json\n",
    "data_dc = response.json()\n",
    "data_dc"
   ]
  },
  {
   "cell_type": "code",
   "execution_count": null,
   "metadata": {},
   "outputs": [],
   "source": [
    "# get column names from first row\n",
    "cols = data_dc.pop(0)\n",
    "\n",
    "# load to dataframe\n",
    "df = pd.DataFrame(data_dc, columns=cols)\n",
    "df"
   ]
  },
  {
   "cell_type": "markdown",
   "metadata": {},
   "source": [
    "## Using the Census API via the datamade census API client\n",
    "Documentation\n",
    "- [census](https://github.com/datamade/census): Python wrapper for Census API"
   ]
  },
  {
   "cell_type": "code",
   "execution_count": null,
   "metadata": {},
   "outputs": [],
   "source": [
    "from census import Census\n",
    "\n",
    "# initialize census API client\n",
    "c = Census(CENSUS_API_KEY)"
   ]
  },
  {
   "cell_type": "code",
   "execution_count": null,
   "metadata": {},
   "outputs": [],
   "source": [
    "# get data for every tract in DC\n",
    "fields = ('NAME', 'B08006_008E', 'B08006_001E')\n",
    "data_dc = c.acs5.state_county_tract(fields, us.states.DC.fips, Census.ALL, Census.ALL)\n",
    "data_dc"
   ]
  },
  {
   "cell_type": "markdown",
   "metadata": {},
   "source": [
    "Note the different format of the data. Instead of a two-dimensional list, the `census` client returns a list of objects. \n",
    "\n",
    "This can be read more intuitively by `pandas`, so we don't have to pass in the list of column names when creating the dataframe:"
   ]
  },
  {
   "cell_type": "code",
   "execution_count": null,
   "metadata": {},
   "outputs": [],
   "source": [
    "df = pd.DataFrame(data_dc)  \n",
    "df"
   ]
  },
  {
   "cell_type": "markdown",
   "metadata": {},
   "source": [
    "Now, let's get data for every tract nationally. \n",
    "\n",
    "`Census.ALL` gives you every geography of a certain type (county, tract, etc.). \n",
    "\n",
    "While the Census API allows you to get all sub-state geographies in a single call, it only lets you get one state at a time, so we'll have to add a loop."
   ]
  },
  {
   "cell_type": "code",
   "execution_count": null,
   "metadata": {},
   "outputs": [],
   "source": [
    "data_all = []\n",
    "for state in us.STATES:\n",
    "    data_all.extend(c.acs5.state_county_tract(fields, state.fips, Census.ALL, Census.ALL))"
   ]
  },
  {
   "cell_type": "markdown",
   "metadata": {},
   "source": [
    "If the API you're using has a strict rate limit, you may want to include a delay of a second or two between calls:"
   ]
  },
  {
   "cell_type": "code",
   "execution_count": null,
   "metadata": {},
   "outputs": [],
   "source": [
    "import time\n",
    "\n",
    "data_all = []\n",
    "for state in us.STATES:\n",
    "    data_all.extend(c.acs5.state_county_tract(fields, state.fips, Census.ALL, Census.ALL))\n",
    "    time.sleep(1)"
   ]
  },
  {
   "cell_type": "code",
   "execution_count": null,
   "metadata": {
    "scrolled": true
   },
   "outputs": [],
   "source": [
    "df = pd.DataFrame(data_all)  \n",
    "df"
   ]
  },
  {
   "cell_type": "markdown",
   "metadata": {},
   "source": [
    "## Loading the data to Civis Platform\n",
    "This step will work the same regardless of how you get the data."
   ]
  },
  {
   "cell_type": "code",
   "execution_count": null,
   "metadata": {},
   "outputs": [],
   "source": [
    "import civis\n",
    "\n",
    "civis.io.dataframe_to_civis(df, 'Civis Database', 'scratch.census_commute', \n",
    "                            existing_table_rows='drop').result()"
   ]
  },
  {
   "cell_type": "markdown",
   "metadata": {},
   "source": [
    "Query the data!"
   ]
  },
  {
   "cell_type": "code",
   "execution_count": null,
   "metadata": {},
   "outputs": [],
   "source": [
    "%%civisquery Civis Database\n",
    "select * from scratch.census_commute limit 10"
   ]
  }
 ],
 "metadata": {
  "kernelspec": {
   "display_name": "Python 3",
   "language": "python",
   "name": "python3"
  },
  "language_info": {
   "codemirror_mode": {
    "name": "ipython",
    "version": 3
   },
   "file_extension": ".py",
   "mimetype": "text/x-python",
   "name": "python",
   "nbconvert_exporter": "python",
   "pygments_lexer": "ipython3",
   "version": "3.6.4"
  }
 },
 "nbformat": 4,
 "nbformat_minor": 2
}
